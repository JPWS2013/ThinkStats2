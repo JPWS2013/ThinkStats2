{
 "metadata": {
  "name": "",
  "signature": "sha256:ed84d329f25f10307f535b93f060a38337043070d3671ae6b0d65bb97707f9ab"
 },
 "nbformat": 3,
 "nbformat_minor": 0,
 "worksheets": [
  {
   "cells": [
    {
     "cell_type": "code",
     "collapsed": false,
     "input": [
      "%matplotlib inline\n",
      "%precision 3"
     ],
     "language": "python",
     "metadata": {},
     "outputs": [
      {
       "metadata": {},
       "output_type": "pyout",
       "prompt_number": 5,
       "text": [
        "u'%.3f'"
       ]
      }
     ],
     "prompt_number": 5
    },
    {
     "cell_type": "markdown",
     "metadata": {},
     "source": [
      "Read the female respondent file."
     ]
    },
    {
     "cell_type": "code",
     "collapsed": false,
     "input": [
      "import chap01soln\n",
      "resp = chap01soln.ReadFemResp()"
     ],
     "language": "python",
     "metadata": {},
     "outputs": [],
     "prompt_number": 1
    },
    {
     "cell_type": "markdown",
     "metadata": {},
     "source": [
      "Make a PMF of <tt>numkdhh</tt>, the number of children under 18 in the respondent's household."
     ]
    },
    {
     "cell_type": "code",
     "collapsed": false,
     "input": [
      "import thinkstats2\n",
      "numchild=[]\n",
      "for index, number in resp.numkdhh.iteritems():\n",
      "    numchild.append(number)\n",
      "\n",
      "print type(numchild)\n",
      "\n",
      "numkdhh_pmf=thinkstats2.Pmf(numchild)"
     ],
     "language": "python",
     "metadata": {},
     "outputs": [
      {
       "output_type": "stream",
       "stream": "stdout",
       "text": [
        "<type 'list'>\n"
       ]
      }
     ],
     "prompt_number": 2
    },
    {
     "cell_type": "markdown",
     "metadata": {},
     "source": [
      "Display the PMF."
     ]
    },
    {
     "cell_type": "code",
     "collapsed": false,
     "input": [
      "import thinkplot\n",
      "\n",
      "thinkplot.Hist(numkdhh_pmf)\n",
      "print numkdhh_pmf.Total()\n",
      "thinkplot.Show()"
     ],
     "language": "python",
     "metadata": {},
     "outputs": [
      {
       "output_type": "stream",
       "stream": "stdout",
       "text": [
        "1.0\n"
       ]
      },
      {
       "metadata": {},
       "output_type": "display_data",
       "png": "[encoded data removed]",
       "text": [
        "<matplotlib.figure.Figure at 0x20727780>"
       ]
      },
      {
       "metadata": {},
       "output_type": "display_data",
       "text": [
        "<matplotlib.figure.Figure at 0x1ee1c0b8>"
       ]
      }
     ],
     "prompt_number": 7
    },
    {
     "cell_type": "markdown",
     "metadata": {},
     "source": [
      "Define <tt>BiasPmf</tt>."
     ]
    },
    {
     "cell_type": "code",
     "collapsed": false,
     "input": [
      "def BiasPmf(pmf, label=''):\n",
      "    \"\"\"Returns the Pmf with oversampling proportional to value.\n",
      "\n",
      "    If pmf is the distribution of true values, the result is the\n",
      "    distribution that would be seen if values are oversampled in\n",
      "    proportion to their values; for example, if you ask students\n",
      "    how big their classes are, large classes are oversampled in\n",
      "    proportion to their size.\n",
      "\n",
      "    Args:\n",
      "      pmf: Pmf object.\n",
      "      label: string label for the new Pmf.\n",
      "\n",
      "     Returns:\n",
      "       Pmf object\n",
      "    \"\"\"\n",
      "    new_pmf = pmf.Copy(label=label)\n",
      "\n",
      "    for x, p in pmf.Items():\n",
      "        new_pmf.Mult(x, x)\n",
      "        \n",
      "    new_pmf.Normalize()\n",
      "    return new_pmf"
     ],
     "language": "python",
     "metadata": {},
     "outputs": [],
     "prompt_number": 9
    },
    {
     "cell_type": "markdown",
     "metadata": {},
     "source": [
      "Make a the biased Pmf of children in the household, as observed if you surveyed the children instead of the respondents."
     ]
    },
    {
     "cell_type": "code",
     "collapsed": false,
     "input": [
      "bias_numkdhh=BiasPmf(numkdhh_pmf, label='Observed')"
     ],
     "language": "python",
     "metadata": {},
     "outputs": [],
     "prompt_number": 11
    },
    {
     "cell_type": "markdown",
     "metadata": {},
     "source": [
      "Display the actual Pmf and the biased Pmf on the same axes."
     ]
    },
    {
     "cell_type": "code",
     "collapsed": false,
     "input": [
      "thinkplot.PrePlot(2)\n",
      "thinkplot.Pmfs([numkdhh_pmf, bias_numkdhh])\n",
      "thinkplot.Show()"
     ],
     "language": "python",
     "metadata": {},
     "outputs": [
      {
       "metadata": {},
       "output_type": "display_data",
       "png": "[encoded data removed]",
       "text": [
        "<matplotlib.figure.Figure at 0x1ca3c550>"
       ]
      },
      {
       "metadata": {},
       "output_type": "display_data",
       "text": [
        "<matplotlib.figure.Figure at 0x1ee27f60>"
       ]
      }
     ],
     "prompt_number": 13
    },
    {
     "cell_type": "markdown",
     "metadata": {},
     "source": [
      "Compute the means of the two Pmfs."
     ]
    },
    {
     "cell_type": "code",
     "collapsed": false,
     "input": [
      "print numkdhh_pmf.Mean()\n",
      "print bias_numkdhh.Mean()"
     ],
     "language": "python",
     "metadata": {},
     "outputs": [
      {
       "output_type": "stream",
       "stream": "stdout",
       "text": [
        "1.02420515504\n",
        "2.40367910066\n"
       ]
      }
     ],
     "prompt_number": 17
    },
    {
     "cell_type": "code",
     "collapsed": false,
     "input": [],
     "language": "python",
     "metadata": {},
     "outputs": [],
     "prompt_number": 2
    },
    {
     "cell_type": "code",
     "collapsed": false,
     "input": [],
     "language": "python",
     "metadata": {},
     "outputs": [],
     "prompt_number": 2
    }
   ],
   "metadata": {}
  }
 ]
}