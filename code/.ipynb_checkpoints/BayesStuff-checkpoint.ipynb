{
 "metadata": {
  "name": "",
  "signature": "sha256:22e4d6556d52c8e2bac9878a92494a7b60ccf8c6d6715b65b95b94d854977011"
 },
 "nbformat": 3,
 "nbformat_minor": 0,
 "worksheets": []
}