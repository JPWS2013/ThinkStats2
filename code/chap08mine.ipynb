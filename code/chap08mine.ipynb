{
 "metadata": {
  "name": "",
  "signature": "sha256:70180f561323e41d42dd4c9929eb43d97db937512a3193917d24078a55f65dc5"
 },
 "nbformat": 3,
 "nbformat_minor": 0,
 "worksheets": [
  {
   "cells": [
    {
     "cell_type": "code",
     "collapsed": false,
     "input": [
      "%matplotlib inline\n",
      "%precision 3"
     ],
     "language": "python",
     "metadata": {},
     "outputs": [
      {
       "metadata": {},
       "output_type": "pyout",
       "prompt_number": 1,
       "text": [
        "u'%.3f'"
       ]
      }
     ],
     "prompt_number": 1
    },
    {
     "cell_type": "markdown",
     "metadata": {},
     "source": [
      "#Chapter 8 Exercises"
     ]
    },
    {
     "cell_type": "code",
     "collapsed": false,
     "input": [
      "import estimation as est\n",
      "import random\n",
      "import numpy as np\n",
      "import thinkstats2\n",
      "import thinkplot"
     ],
     "language": "python",
     "metadata": {},
     "outputs": [],
     "prompt_number": 2
    },
    {
     "cell_type": "markdown",
     "metadata": {},
     "source": [
      "##Exercise 8.1 \n",
      "In this chapter we used x \u0304 and median to estimate \u03bc, and found that x \u0304 yields lower MSE. Also, we used S2 and Sn2\u22121 to estimate \u03c3, and found that S2 is biased and Sn2\u22121 unbiased. Run similar experiments to see if x \u0304 and median are biased estimates of \u03bc. Also check whether S2 or Sn2\u22121 yields a lower MSE."
     ]
    },
    {
     "cell_type": "code",
     "collapsed": false,
     "input": [
      "n=8\n",
      "m=1000\n",
      "\n",
      "mu=0\n",
      "sigma=1\n",
      "\n",
      "means=[]\n",
      "medians=[]\n",
      "\n",
      "for _ in range(m):\n",
      "    xs=[random.gauss(mu, sigma) for i in range(n)]\n",
      "    xbar=np.mean(xs)\n",
      "    median=np.median(xs)\n",
      "    means.append(xbar)\n",
      "    medians.append(median)\n",
      "    \n",
      "ME_mean=est.MeanError(means, mu)\n",
      "ME_median=est.MeanError(medians, mu)\n",
      "\n",
      "estimates1=[]\n",
      "estimates2=[]\n",
      "\n",
      "for _ in range(m):\n",
      "    xs=[random.gauss(mu, sigma) for i in range(n)]\n",
      "    biased=np.var(xs)\n",
      "    unbiased=np.var(xs, ddof=1)\n",
      "    estimates1.append(biased)\n",
      "    estimates2.append(unbiased)\n",
      "\n",
      "RMSE_biased=est.RMSE(estimates1, sigma**2)\n",
      "RMSE_unbiased=est.RMSE(estimates2, sigma**2)\n",
      "    \n",
      "print \"Mean Error of Mean is:\", ME_mean\n",
      "print \"Mean Error of Median is:\", ME_median\n",
      "print \"RMSE of S^2 estimate is:\", RMSE_biased\n",
      "print \"RMSE of Sn-2^2 estimate is:\", RMSE_unbiased"
     ],
     "language": "python",
     "metadata": {},
     "outputs": [
      {
       "output_type": "stream",
       "stream": "stdout",
       "text": [
        "Mean Error of Mean is: 0.0055413794608\n",
        "Mean Error of Median is: 0.00969639676544\n",
        "RMSE of S^2 estimate is: 0.467584556648\n",
        "RMSE of Sn-2^2 estimate is: 0.509048541136\n"
       ]
      }
     ],
     "prompt_number": 3
    },
    {
     "cell_type": "markdown",
     "metadata": {},
     "source": [
      "#### Therefore xbar and median are not biased estimates of miu since the mean error does not seem to underestimate the actual value by a significant amount. S^2 also seems to yield a slightly lower MSE. "
     ]
    },
    {
     "cell_type": "markdown",
     "metadata": {},
     "source": [
      "##Exercise 8.2 \n",
      "\n",
      "Suppose you draw a sample with size n = 10 from an exponential distribution with \u03bb = 2. Simulate this experiment 1000 times and plot the sampling distribution of the estimate L. "
     ]
    },
    {
     "cell_type": "code",
     "collapsed": false,
     "input": [
      "lam=2\n",
      "n=10\n",
      "m=1000\n",
      "\n",
      "Ls=[]\n",
      "\n",
      "for _ in range (m):\n",
      "    xs=np.random.exponential(1.0/lam, n)\n",
      "    L=1/np.mean(xs)\n",
      "    Ls.append(L)\n",
      "    \n",
      "cdf=thinkstats2.MakeCdfFromList(Ls)\n",
      "thinkplot.Cdf(cdf)\n",
      "thinkplot.Show(legend=False)"
     ],
     "language": "python",
     "metadata": {},
     "outputs": [
      {
       "metadata": {},
       "output_type": "display_data",
       "png": "[encoded data removed]",
       "text": [
        "<matplotlib.figure.Figure at 0x1065be2d0>"
       ]
      },
      {
       "metadata": {},
       "output_type": "display_data",
       "text": [
        "<matplotlib.figure.Figure at 0x1065be250>"
       ]
      }
     ],
     "prompt_number": 4
    },
    {
     "cell_type": "markdown",
     "metadata": {},
     "source": [
      "Compute the standard error of the estimate and the 90% confidence interval."
     ]
    },
    {
     "cell_type": "code",
     "collapsed": false,
     "input": [
      "ci=cdf.Percentile(5), cdf.Percentile(95)\n",
      "\n",
      "print ci"
     ],
     "language": "python",
     "metadata": {},
     "outputs": [
      {
       "output_type": "stream",
       "stream": "stdout",
       "text": [
        "(1.2898153319295704, 3.6969923334360013)\n"
       ]
      }
     ],
     "prompt_number": 7
    },
    {
     "cell_type": "markdown",
     "metadata": {},
     "source": [
      "Repeat the experiment with a few different values of n and make a plot of standard error versus n."
     ]
    },
    {
     "cell_type": "code",
     "collapsed": false,
     "input": [
      "lam=2\n",
      "m=1000\n",
      "\n",
      "stderr_t=[]\n",
      "\n",
      "for n in range(8,22,2):\n",
      "    Ls=[]\n",
      "    for _ in range (m):\n",
      "        xs=np.random.exponential(1.0/lam, n)\n",
      "        L=1/np.mean(xs)\n",
      "        Ls.append(L)\n",
      "    \n",
      "    stderr=est.RMSE(Ls, lam)\n",
      "    stderr_t.append(stderr)\n",
      "    n_t=range(8,22,2)\n",
      "    \n",
      "thinkplot.Plot(n_t, stderr_t)"
     ],
     "language": "python",
     "metadata": {},
     "outputs": [
      {
       "metadata": {},
       "output_type": "display_data",
       "png": "[encoded data removed]",
       "text": [
        "<matplotlib.figure.Figure at 0x10b2f27d0>"
       ]
      }
     ],
     "prompt_number": 10
    },
    {
     "cell_type": "markdown",
     "metadata": {},
     "source": [
      "##Exercise 8.3 \n",
      "\n",
      "In games like hockey and soccer, the time between goals is roughly exponential. So you could estimate a team\u2019s goal-scoring rate by observing the number of goals they score in a game. This estimation process is a little different from sampling the time between goals, so let\u2019s see how it works.\n",
      "\n",
      "Write a function that takes a goal-scoring rate, lam, in goals per game, and simulates a game by generating the time between goals until the total time exceeds 1 game, then returns the number of goals scored."
     ]
    },
    {
     "cell_type": "code",
     "collapsed": false,
     "input": [
      "def GameSim(GoalScoreRate):\n",
      "    lam=GoalScoreRate\n",
      "    goals=0\n",
      "    t=0\n",
      "    \n",
      "    while True:\n",
      "        t_betw=random.expovariate(lam)\n",
      "        t+=t_betw\n",
      "    \n",
      "        if t>1:\n",
      "            break\n",
      "        goals+=1\n",
      "    \n",
      "    return goals"
     ],
     "language": "python",
     "metadata": {},
     "outputs": [],
     "prompt_number": 11
    },
    {
     "cell_type": "markdown",
     "metadata": {},
     "source": [
      "Write another function that simulates many games, stores the estimates of lam, then computes their mean error and RMSE."
     ]
    },
    {
     "cell_type": "code",
     "collapsed": false,
     "input": [
      "def GameAnalysis(GoalScoreRate, m=1000):\n",
      "    lam_est=[]\n",
      "    \n",
      "    for _ in range(m):\n",
      "        lam_est_i=GameSim(GoalScoreRate)\n",
      "        lam_est.append(lam_est_i)\n",
      "        \n",
      "    rmse=est.RMSE(lam_est, lam)\n",
      "    meanerror=est.MeanError(lam_est, lam)\n",
      "    \n",
      "    return rmse, meanerror, lam_est"
     ],
     "language": "python",
     "metadata": {},
     "outputs": [],
     "prompt_number": 16
    },
    {
     "cell_type": "markdown",
     "metadata": {},
     "source": [
      "Is this way of making an estimate biased? Plot the sampling distribution of the estimates and the 90% confidence interval. What is the standard error? What happens to sampling error for increasing values of lam?"
     ]
    },
    {
     "cell_type": "code",
     "collapsed": false,
     "input": [
      "rmse, meanerror, lam_est=GameAnalysis(2)\n",
      "\n",
      "print \"RMSE of estimates for L=\", rmse\n",
      "print \"Mean Error of estimates for L=\", meanerror\n",
      "\n",
      "cdf2=thinkstats2.MakeCdfFromList(lam_est)\n",
      "\n",
      "ci=cdf2.Percentile(5), cdf2.Percentile(95)\n",
      "print \"The 90% confidence interval is: \", ci\n",
      "print \"The Standard Error is =\", rmse\n",
      "\n",
      "thinkplot.Cdf(cdf2)\n",
      "thinkplot.Show(legend=False)"
     ],
     "language": "python",
     "metadata": {},
     "outputs": [
      {
       "output_type": "stream",
       "stream": "stdout",
       "text": [
        "RMSE of estimates for L= 1.39892816113\n",
        "Mean Error of estimates for L= -0.039\n",
        "The 90% confidence interval is:  (0, 5)\n",
        "The Standard Error is = 1.39892816113\n"
       ]
      },
      {
       "metadata": {},
       "output_type": "display_data",
       "png": "[encoded data removed]",
       "text": [
        "<matplotlib.figure.Figure at 0x10b67db10>"
       ]
      },
      {
       "metadata": {},
       "output_type": "display_data",
       "text": [
        "<matplotlib.figure.Figure at 0x10b7e6990>"
       ]
      }
     ],
     "prompt_number": 21
    },
    {
     "cell_type": "markdown",
     "metadata": {},
     "source": [
      "#### Therefore based on the mean error of the estimates, it seems that this way of making an estimate is not biased as the mean error of the estimate for L is less than 0.1. However, it is negative which suggests that there may be a very very slight bias. "
     ]
    },
    {
     "cell_type": "markdown",
     "metadata": {},
     "source": [
      "What happens to sampling error for increasing values of lam?"
     ]
    },
    {
     "cell_type": "code",
     "collapsed": false,
     "input": [
      "data=dict()\n",
      "rmse_t=[]\n",
      "\n",
      "for lam in range(2,31):\n",
      "    rmse, meanerror, lam_est=GameAnalysis(lam)\n",
      "    data[lam]=(rmse, meanerror, lam_est)\n",
      "    \n",
      "for key in data.keys():\n",
      "    lam=key\n",
      "    rmse_t.append(data[lam][0])\n",
      "    cdf=thinkstats2.MakeCdfFromList(data[lam][2])\n",
      "    ci=(cdf.Percentile(5), cdf.Percentile(95))\n",
      "    print ci\n",
      "    \n",
      "thinkplot.Plot(data.keys(), rmse_t)    "
     ],
     "language": "python",
     "metadata": {},
     "outputs": [
      {
       "output_type": "stream",
       "stream": "stdout",
       "text": [
        "(0, 5)\n",
        "(1, 6)\n",
        "(1, 8)\n",
        "(2, 9)\n",
        "(2, 10)\n",
        "(3, 12)\n",
        "(4, 13)\n",
        "(4, 14)\n",
        "(5, 15)\n",
        "(6, 17)\n",
        "(6, 18)\n",
        "(7, 19)\n",
        "(8, 20)\n",
        "(9, 23)\n",
        "(10, 23)\n",
        "(10, 24)\n",
        "(11, 25)\n",
        "(12, 26)\n",
        "(13, 28)\n",
        "(14, 29)\n",
        "(15, 30)\n",
        "(15, 31)\n",
        "(16, 32)\n",
        "(17, 34)\n",
        "(18, 35)\n",
        "(19, 36)\n",
        "(19, 36)\n",
        "(21, 38)\n",
        "(21, 39)\n"
       ]
      },
      {
       "metadata": {},
       "output_type": "display_data",
       "png": "[encoded data removed]",
       "text": [
        "<matplotlib.figure.Figure at 0x10b7e4c50>"
       ]
      }
     ],
     "prompt_number": 27
    },
    {
     "cell_type": "markdown",
     "metadata": {},
     "source": [
      "#### Since sampling error is characterized by confidence intervals and standard errors, we can see from the list of confidence intervals that the confidence interval gets wider and wider (i.e. starts with a width of 5, ends with a width of 18) as L or lam increases. Also, based on the graph, the standard error increases as lam increases."
     ]
    }
   ],
   "metadata": {}
  }
 ]
}