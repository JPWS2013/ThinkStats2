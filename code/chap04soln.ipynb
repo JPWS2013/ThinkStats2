{
 "metadata": {
  "name": "",
<<<<<<< HEAD
  "signature": "sha256:9e8fa23e83f4efe6e7f22d8780eb84e05152642feb97cb4b27d98be77cf5e13f"
=======
  "signature": "sha256:8a4674a0ec0e91f378b3bee4c631c9dd393e5591a302c1c11213da9258d9bebd"
>>>>>>> FETCH_HEAD
 },
 "nbformat": 3,
 "nbformat_minor": 0,
 "worksheets": [
  {
   "cells": [
    {
     "cell_type": "code",
     "collapsed": false,
     "input": [
      "%matplotlib inline\n",
      "%precision 3"
     ],
     "language": "python",
     "metadata": {},
     "outputs": [
      {
       "metadata": {},
       "output_type": "pyout",
       "prompt_number": 2,
       "text": [
        "u'%.3f'"
       ]
      }
     ],
     "prompt_number": 2
    },
    {
     "cell_type": "markdown",
     "metadata": {},
     "source": [
      "Read the pregnancy file."
     ]
    },
    {
     "cell_type": "code",
     "collapsed": false,
     "input": [
      "import nsfg\n",
      "preg = nsfg.ReadFemPreg()"
     ],
     "language": "python",
     "metadata": {},
     "outputs": [],
<<<<<<< HEAD
     "prompt_number": 3
=======
     "prompt_number": 1
>>>>>>> FETCH_HEAD
    },
    {
     "cell_type": "markdown",
     "metadata": {},
     "source": [
      "Select live births, then make a CDF of <tt>totalwgt_lb</tt>. "
     ]
    },
    {
     "cell_type": "code",
     "collapsed": false,
     "input": [
      "import thinkstats2\n",
      "live = preg[preg.outcome == 1]\n",
      "firsts = live[live.birthord == 1]\n",
      "others = live[live.birthord != 1]\n",
      "cdf = thinkstats2.Cdf(live.totalwgt_lb)"
     ],
     "language": "python",
     "metadata": {},
     "outputs": [],
<<<<<<< HEAD
     "prompt_number": 4
=======
     "prompt_number": 2
>>>>>>> FETCH_HEAD
    },
    {
     "cell_type": "markdown",
     "metadata": {},
     "source": [
      "Display the CDF."
     ]
    },
    {
     "cell_type": "code",
     "collapsed": false,
     "input": [
      "import thinkplot\n",
      "thinkplot.Cdf(cdf, label='totalwgt_lb')\n",
      "thinkplot.Show(loc='lower right')"
     ],
     "language": "python",
     "metadata": {},
     "outputs": [
      {
       "metadata": {},
       "output_type": "display_data",
       "png": "iVBORw0KGgoAAAANSUhEUgAAAXUAAAEACAYAAABMEua6AAAABHNCSVQICAgIfAhkiAAAAAlwSFlz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\nswxxqJuZZYhD3cwsQxzqZmYZ8v8Bf8dh8cida1cAAAAASUVORK5CYII=\n",
       "text": [
        "<matplotlib.figure.Figure at 0x18518780>"
       ]
      },
      {
       "metadata": {},
       "output_type": "display_data",
       "text": [
        "<matplotlib.figure.Figure at 0x18ba96d8>"
       ]
      }
     ],
     "prompt_number": 5
    },
    {
     "cell_type": "markdown",
     "metadata": {},
     "source": [
      "Find out how much you weighed at birth, if you can, and compute CDF(x). "
     ]
    },
    {
     "cell_type": "code",
     "collapsed": false,
     "input": [
      "cdf.Prob(8.4)"
     ],
     "language": "python",
     "metadata": {},
     "outputs": [
      {
       "metadata": {},
       "output_type": "pyout",
       "prompt_number": 6,
       "text": [
        "0.814"
       ]
      }
     ],
     "prompt_number": 6
    },
    {
     "cell_type": "markdown",
     "metadata": {},
     "source": [
      "If you are a first child, look up your birthweight in the CDF of first children; otherwise use the CDF of other children."
     ]
    },
    {
     "cell_type": "code",
     "collapsed": false,
     "input": [
      "other_cdf = thinkstats2.Cdf(others.totalwgt_lb)\n",
      "other_cdf.Prob(8.4)"
     ],
     "language": "python",
     "metadata": {},
     "outputs": [
      {
       "metadata": {},
       "output_type": "pyout",
       "prompt_number": 7,
       "text": [
        "0.797"
       ]
      }
     ],
     "prompt_number": 7
    },
    {
     "cell_type": "markdown",
     "metadata": {},
     "source": [
      "Compute the percentile rank of your birthweight"
     ]
    },
    {
     "cell_type": "code",
     "collapsed": false,
     "input": [
      "cdf.PercentileRank(8.4)"
     ],
     "language": "python",
     "metadata": {},
     "outputs": [
      {
       "metadata": {},
       "output_type": "pyout",
       "prompt_number": 8,
       "text": [
        "81.423"
       ]
      }
     ],
     "prompt_number": 8
    },
    {
     "cell_type": "markdown",
     "metadata": {},
     "source": [
      "Compute the median birth weight by looking up the value associated with p=0.5."
     ]
    },
    {
     "cell_type": "code",
     "collapsed": false,
     "input": [
      "cdf.Value(0.5)"
     ],
     "language": "python",
     "metadata": {},
     "outputs": [
      {
       "metadata": {},
       "output_type": "pyout",
       "prompt_number": 9,
       "text": [
        "7.375"
       ]
      }
     ],
     "prompt_number": 9
    },
    {
     "cell_type": "markdown",
     "metadata": {},
     "source": [
      "Compute the interquartile range (IQR) by computing percentiles corresponding to 25 and 75. "
     ]
    },
    {
     "cell_type": "code",
     "collapsed": false,
     "input": [
      "cdf.Percentile(25), cdf.Percentile(75)"
     ],
     "language": "python",
     "metadata": {},
     "outputs": [
      {
       "metadata": {},
       "output_type": "pyout",
       "prompt_number": 10,
       "text": [
        "(6.500, 8.125)"
       ]
      }
     ],
     "prompt_number": 10
    },
    {
     "cell_type": "markdown",
     "metadata": {},
     "source": [
      "Make a random selection from <tt>cdf</tt>."
     ]
    },
    {
     "cell_type": "code",
     "collapsed": false,
     "input": [
      "cdf.Random()"
     ],
     "language": "python",
     "metadata": {},
     "outputs": [
      {
       "metadata": {},
       "output_type": "pyout",
       "prompt_number": 11,
       "text": [
        "8.562"
       ]
      }
     ],
     "prompt_number": 11
    },
    {
     "cell_type": "markdown",
     "metadata": {},
     "source": [
      "Draw a random sample from <tt>cdf</tt>."
     ]
    },
    {
     "cell_type": "code",
     "collapsed": false,
     "input": [
      "cdf.Sample(10)"
     ],
     "language": "python",
     "metadata": {},
     "outputs": [
      {
       "metadata": {},
       "output_type": "pyout",
       "prompt_number": 12,
       "text": [
        "array([ 5.812,  7.688,  9.188,  7.312,  6.125,  8.188,  8.375,  7.312,\n",
        "        8.125,  5.75 ])"
       ]
      }
     ],
     "prompt_number": 12
    },
    {
     "cell_type": "markdown",
     "metadata": {},
     "source": [
      "Draw a random sample from <tt>cdf</tt>, then compute the percentile rank for each value, and plot the distribution of the percentile ranks."
     ]
    },
    {
     "cell_type": "code",
     "collapsed": false,
     "input": [
      "t = [cdf.PercentileRank(x) for x in cdf.Sample(1000)]\n",
      "cdf2 = thinkstats2.Cdf(t)\n",
      "thinkplot.Cdf(cdf2)\n",
      "thinkplot.Show(legend=False)"
     ],
     "language": "python",
     "metadata": {},
     "outputs": [
      {
       "metadata": {},
       "output_type": "display_data",
       "png": "iVBORw0KGgoAAAANSUhEUgAAAXgAAAEACAYAAAC57G0KAAAABHNCSVQICAgIfAhkiAAAAAlwSFlz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\nQmCC\n",
       "text": [
        "<matplotlib.figure.Figure at 0x3a6f3c8>"
       ]
      },
      {
       "metadata": {},
       "output_type": "display_data",
       "text": [
        "<matplotlib.figure.Figure at 0x1b550278>"
       ]
      }
     ],
     "prompt_number": 13
    },
    {
     "cell_type": "markdown",
     "metadata": {},
     "source": [
      "Generate 1000 random values using <tt>random.random()</tt> and plot their PMF."
     ]
    },
    {
     "cell_type": "code",
     "collapsed": false,
     "input": [
      "import random\n",
      "t = [random.random() for _ in range(1000)]\n",
      "pmf = thinkstats2.Pmf(t)\n",
      "thinkplot.Pmf(pmf, linewidth=0.1)\n",
      "thinkplot.Show()"
     ],
     "language": "python",
     "metadata": {},
     "outputs": [
      {
       "output_type": "stream",
       "stream": "stderr",
       "text": [
        "C:\\Users\\jpoh\\AppData\\Local\\Continuum\\Anaconda\\lib\\site-packages\\matplotlib\\axes\\_axes.py:475: UserWarning: No labelled objects found. Use label='...' kwarg on individual plots.\n",
        "  warnings.warn(\"No labelled objects found. \"\n"
       ]
      },
      {
       "metadata": {},
       "output_type": "display_data",
       "png": "iVBORw0KGgoAAAANSUhEUgAAAYoAAAEACAYAAACtVTGuAAAABHNCSVQICAgIfAhkiAAAAAlwSFlz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\nIiJBCgoREQlSUIiISND/Ay0DYFuQ9jwtAAAAAElFTkSuQmCC\n",
       "text": [
        "<matplotlib.figure.Figure at 0x3a6f128>"
       ]
      },
      {
       "metadata": {},
       "output_type": "display_data",
       "text": [
        "<matplotlib.figure.Figure at 0xba4d080>"
       ]
      }
     ],
     "prompt_number": 14
    },
    {
     "cell_type": "markdown",
     "metadata": {},
     "source": [
      "Assuming that the PMF doesn't work very well, try plotting the CDF instead."
     ]
    },
    {
     "cell_type": "code",
     "collapsed": false,
     "input": [
      "cdf = thinkstats2.Cdf(t)\n",
      "thinkplot.Cdf(cdf)\n",
      "thinkplot.Show()"
     ],
     "language": "python",
     "metadata": {},
     "outputs": [
      {
       "metadata": {},
       "output_type": "display_data",
       "png": "iVBORw0KGgoAAAANSUhEUgAAAXcAAAEACAYAAABI5zaHAAAABHNCSVQICAgIfAhkiAAAAAlwSFlz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\n/1SdEwAAAABJRU5ErkJggg==\n",
       "text": [
        "<matplotlib.figure.Figure at 0x185186a0>"
       ]
      },
      {
       "metadata": {},
       "output_type": "display_data",
       "text": [
        "<matplotlib.figure.Figure at 0xba412e8>"
       ]
      }
     ],
     "prompt_number": 15
    },
    {
     "cell_type": "code",
     "collapsed": false,
     "input": [
      "import scipy.stats"
     ],
     "language": "python",
     "metadata": {},
     "outputs": [],
     "prompt_number": 16
    },
    {
     "cell_type": "code",
     "collapsed": false,
     "input": [
      "scipy.stats.norm.cdf(0)"
     ],
     "language": "python",
     "metadata": {},
     "outputs": [
      {
       "metadata": {},
       "output_type": "pyout",
       "prompt_number": 17,
       "text": [
        "0.500"
       ]
      }
     ],
     "prompt_number": 17
    },
    {
     "cell_type": "code",
     "collapsed": false,
     "input": [],
     "language": "python",
     "metadata": {},
     "outputs": [],
     "prompt_number": 17
    }
   ],
   "metadata": {}
  }
 ]
}