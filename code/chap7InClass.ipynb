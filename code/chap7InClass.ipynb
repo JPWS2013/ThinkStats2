{
 "metadata": {
  "name": "",
  "signature": "sha256:b7d01ad53e89823258634c7cd59e8f0bae1c63fdea22a72abca4dbdfd38a6620"
 },
 "nbformat": 3,
 "nbformat_minor": 0,
 "worksheets": [
  {
   "cells": [
    {
     "cell_type": "markdown",
     "metadata": {},
     "source": [
      "##Exercises"
     ]
    },
    {
     "cell_type": "markdown",
     "metadata": {},
     "source": [
      "##thinkstats2\n",
      "\n",
      "1) Read the documentation of thinkstats2 and answer the following questions:\n",
      "\n",
      "a) What are the attributes of a Cdf?\n",
      "\n",
      "b) What methods modify a Cdf?\n",
      "\n",
      "c) How do you iterate through the values and probabilities in a Cdf?\n",
      "\n",
      "d) How do you iterate through the values and frequencies in a Hist?\n",
      "\n",
      "e) What methods modify Pmfs and Hists?\n",
      "\n",
      "Note: In the list of functions, there are several MakePmfFromX and MakeCdfFromY that are no longer needed because the Pmf and Cdf constructors can handle more types now."
     ]
    },
    {
     "cell_type": "markdown",
     "metadata": {},
     "source": [
      "##My Answers\n",
      "a) Attributes are xs (sequence of values), ps (sequence of probabilities) and name (a string used as a graph label)\n",
      "\n",
      "b) - Append adds a (Value, Probability) pair to a CDF\n",
      "   - Scale multiplies the xs (sequence of Values) by a factor\n",
      "   - Shift adds a term to each value in xs\n",
      "\n",
      "c) Items(self) or Values(self)\n",
      "\n",
      "d) Values(self)\n",
      "\n",
      "e) For Hists, Subtracts (self, other) subtracts the values in one histogram from the other; Exp exponentiates the probabilities; Incr increments the frequency or probability; Mult scales the frequencies/probabilities assocated with the value; Scale multiplies the values by a factor; Set sets the freq/prob associated with x; "
     ]
    },
    {
     "cell_type": "markdown",
     "metadata": {},
     "source": [
      "##pandas\n",
      "\n",
      "2) Read the documentation of pandas.DataFrame and find three methods we have seen so far in the book.\n",
      "\n",
      "3) Read the documentation of pandas.Series and find three methods we have seen so far in the book."
     ]
    },
    {
     "cell_type": "markdown",
     "metadata": {},
     "source": [
      "For pandas dataframe:\n",
      "\n",
      "- "
     ]
    },
    {
     "cell_type": "markdown",
     "metadata": {},
     "source": [
      "##numpy\n",
      "\n",
      "4) Read the documentation of numpy.array and find three ways to create a new array.\n",
      "\n",
      "Note: most operations on DataFrames and Series are provided as methods, but many numpy operations are only available as functions."
     ]
    }
   ],
   "metadata": {}
  }
 ]
}