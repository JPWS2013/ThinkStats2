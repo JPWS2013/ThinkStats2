{
 "metadata": {
  "name": "",
  "signature": "sha256:468a6f06eaf4f176419e94cdc1867ee79f931ee9cb5230c6077db05b715d83e4"
 },
 "nbformat": 3,
 "nbformat_minor": 0,
 "worksheets": [
  {
   "cells": [
    {
     "cell_type": "code",
     "collapsed": false,
     "input": [
      "%matplotlib inline\n",
      "%precision 3"
     ],
     "language": "python",
     "metadata": {},
     "outputs": [
      {
       "metadata": {},
       "output_type": "pyout",
       "prompt_number": 1,
       "text": [
        "u'%.3f'"
       ]
      }
     ],
     "prompt_number": 1
    },
    {
     "cell_type": "markdown",
     "metadata": {},
     "source": [
      "## Exercise 6.1\n",
      "\n",
      "The distribution of income is famously skewed to the right. In\n",
      "this exercise, we\u2019ll measure how strong that skew is.\n",
      "\n",
      "The Current Population Survey (CPS) is a joint effort of the Bureau of Labor\n",
      "Statistics and the Census Bureau to study income and related variables.\n",
      "Data collected in 2013 is available from http://www.census.gov/hhes/www/\n",
      "cpstables/032013/hhinc/toc.htm. I downloaded hinc06.xls, which is\n",
      "an Excel spreadsheet with information about household income, and converted\n",
      "it to hinc06.csv, a CSV file you will find in the repository for this\n",
      "book. You will also find hinc2.py, which reads this file and transforms the\n",
      "data.\n",
      "\n",
      "The dataset is in the form of a series of income ranges and the number of\n",
      "respondents who fell in each range. The lowest range includes respondents\n",
      "who reported annual household income \u201cUnder \\$5000\u201d. The highest range\n",
      "includes respondents who made \u201c\\$250,000 or more\u201d.\n",
      "\n",
      "To estimate mean and other statistics from these data, we have to make\n",
      "some assumptions about the lower and upper bounds, and how the values\n",
      "are distributed in each range. hinc2.py provides InterpolateSample,\n",
      "which shows one way to model this data. It takes a DataFrame with a column,\n",
      "income, that contains the upper bound of each range, and freq, which\n",
      "contains the number of respondents in each frame.\n",
      "\n",
      "It also takes log_upper, which is an assumed upper bound on the highest\n",
      "range, expressed in log10 dollars. The default value, log_upper=6.0 represents\n",
      "the assumption that the largest income among the respondents is 106,\n",
      "or one million dollars.\n",
      "\n",
      "InterpolateSample generates a pseudo-sample; that is, a sample of household\n",
      "incomes that yields the same number of respondents in each range as\n",
      "the actual data. It assumes that incomes in each range are equally spaced\n",
      "on a log10 scale."
     ]
    },
    {
     "cell_type": "code",
     "collapsed": false,
     "input": [
      "import hinc2\n",
      "import hinc\n",
      "import thinkstats2\n",
      "\n",
      "df=hinc.ReadData()\n",
      "#print(df)\n",
      "log_sample=hinc2.InterpolateSample(df)\n",
      "#log_sample\n",
      "hinc2.main()"
     ],
     "language": "python",
     "metadata": {},
     "outputs": [
      {
       "metadata": {},
       "output_type": "display_data",
       "png": "[encoded data removed]",
       "text": [
        "<matplotlib.figure.Figure at 0xb1e6860>"
       ]
      }
     ],
     "prompt_number": 3
    },
    {
     "cell_type": "markdown",
     "metadata": {},
     "source": [
      "Compute the median, mean, skewness and Pearson\u2019s skewness of the resulting\n",
      "sample"
     ]
    },
    {
     "cell_type": "code",
     "collapsed": false,
     "input": [
      "import math\n",
      "\n",
      "def RawMoment(xs, k):\n",
      "    return sum(x**k for x in xs)/len(xs)\n",
      "\n",
      "def CentralMoment(xs, k):\n",
      "    mean=RawMoment(xs, 1)\n",
      "    return sum((x-mean)**k for x in xs) / len(xs)\n",
      "\n",
      "def StandardizedMoment(xs, k):\n",
      "    var=CentralMoment(xs,2)\n",
      "    std=math.sqrt(var)\n",
      "    return CentralMoment(xs,k) / std**k\n",
      "\n",
      "def Skewness(xs):\n",
      "    return StandardizedMoment(xs,3)\n",
      "\n",
      "def Median(xs):\n",
      "    cdf=thinkstats2.MakeCdfFromList(xs)\n",
      "    return cdf.Value(0.5)\n",
      "\n",
      "def PearsonMedianSkewness(xs):\n",
      "    median=Median(xs)\n",
      "    mean=RawMoment(xs,1)\n",
      "    var=CentralMoment(xs,2)\n",
      "    std=math.sqrt(var)\n",
      "    gp=3*(mean-median) / std\n",
      "    return gp"
     ],
     "language": "python",
     "metadata": {},
     "outputs": [],
     "prompt_number": 90
    },
    {
     "cell_type": "code",
     "collapsed": false,
     "input": [
      "xs=[]\n",
      "for element in log_sample:\n",
      "    xs.append(element)\n",
      "\n",
      "mean=10**RawMoment(xs, 1)\n",
      "#print (mean)\n",
      "median=10**Median(xs)\n",
      "#print (median)\n",
      "skeww=Skewness(xs)\n",
      "#print (skeww)\n",
      "pskew=PearsonMedianSkewness(xs)\n",
      "#print (pskew)\n",
      "\n",
      "print \"So, the mean household income is $\", mean, \"and the median household income is $\", median\n",
      "print \"The skewness of the sample is\", skeww, \"and the Pearson Median Skewness is\", pskew"
     ],
     "language": "python",
     "metadata": {},
     "outputs": [
      {
       "output_type": "stream",
       "stream": "stdout",
       "text": [
        "So, the mean household income is $ 45455.4263813 and the median household income is $ 51226.4544789\n",
        "The skewness of the sample is -0.641354366566 and the Pearson Median Skewness is -0.337920251338\n"
       ]
      }
     ],
     "prompt_number": 91
    },
    {
     "cell_type": "markdown",
     "metadata": {},
     "source": [
      "What fraction of households reports a taxable income below\n",
      "the mean?"
     ]
    },
    {
     "cell_type": "code",
     "collapsed": false,
     "input": [
      "cdf=thinkstats2.Cdf(log_sample)\n",
      "print 100*cdf.Prob(RawMoment(xs,1)), \"% of households report a taxable income below the mean\""
     ],
     "language": "python",
     "metadata": {},
     "outputs": [
      {
       "output_type": "stream",
       "stream": "stdout",
       "text": [
        "45.0603472211 % of households report a taxable income below the mean\n"
       ]
      }
     ],
     "prompt_number": 92
    },
    {
     "cell_type": "markdown",
     "metadata": {},
     "source": [
      "How do the results depend on the assumed upper bound?"
     ]
    },
    {
     "cell_type": "markdown",
     "metadata": {},
     "source": [
      "####My guess is that the assumed upper bound will shift the skewness or pearson skewness. The lower the assumed upper bound, the more it will be skewed to the left and the higher the upper bound the more it will be skewed to the right."
     ]
    }
   ],
   "metadata": {}
  }
 ]
}