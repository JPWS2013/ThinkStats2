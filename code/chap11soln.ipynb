{
 "metadata": {
  "name": "",
  "signature": "sha256:42f5f7c7c69ece198cf4420d9a4abf36dc231347362011959f47bc6f351dc3b4"
 },
 "nbformat": 3,
 "nbformat_minor": 0,
 "worksheets": [
  {
   "cells": [
    {
     "cell_type": "code",
     "collapsed": false,
     "input": [
      "import first\n",
      "live, firsts, others = first.MakeFrames()\n",
      "df = live[live.prglngth>30]"
     ],
     "language": "python",
     "metadata": {},
     "outputs": [],
     "prompt_number": 1
    },
    {
     "cell_type": "markdown",
     "metadata": {},
     "source": [
      "The following are the only variables I found that have a statistically significant effect on pregnancy length."
     ]
    },
    {
     "cell_type": "code",
     "collapsed": false,
     "input": [
      "import statsmodels.formula.api as smf\n",
      "model = smf.ols('prglngth ~ birthord==1 + race==2 + nbrnaliv>1', data=df)\n",
      "results = model.fit()\n",
      "results.summary()"
     ],
     "language": "python",
     "metadata": {},
     "outputs": [
      {
       "html": [
        "<table class=\"simpletable\">\n",
        "<caption>OLS Regression Results</caption>\n",
        "<tr>\n",
        "  <th>Dep. Variable:</th>        <td>prglngth</td>     <th>  R-squared:         </th> <td>   0.011</td> \n",
        "</tr>\n",
        "<tr>\n",
        "  <th>Model:</th>                   <td>OLS</td>       <th>  Adj. R-squared:    </th> <td>   0.011</td> \n",
        "</tr>\n",
        "<tr>\n",
        "  <th>Method:</th>             <td>Least Squares</td>  <th>  F-statistic:       </th> <td>   34.28</td> \n",
        "</tr>\n",
        "<tr>\n",
        "  <th>Date:</th>             <td>Tue, 03 Mar 2015</td> <th>  Prob (F-statistic):</th> <td>5.09e-22</td> \n",
        "</tr>\n",
        "<tr>\n",
        "  <th>Time:</th>                 <td>12:00:30</td>     <th>  Log-Likelihood:    </th> <td> -18247.</td> \n",
        "</tr>\n",
        "<tr>\n",
        "  <th>No. Observations:</th>      <td>  8884</td>      <th>  AIC:               </th> <td>3.650e+04</td>\n",
        "</tr>\n",
        "<tr>\n",
        "  <th>Df Residuals:</th>          <td>  8880</td>      <th>  BIC:               </th> <td>3.653e+04</td>\n",
        "</tr>\n",
        "<tr>\n",
        "  <th>Df Model:</th>              <td>     3</td>      <th>                     </th>     <td> </td>    \n",
        "</tr>\n",
        "</table>\n",
        "<table class=\"simpletable\">\n",
        "<tr>\n",
        "            <td></td>               <th>coef</th>     <th>std err</th>      <th>t</th>      <th>P>|t|</th> <th>[95.0% Conf. Int.]</th> \n",
        "</tr>\n",
        "<tr>\n",
        "  <th>Intercept</th>             <td>   38.7617</td> <td>    0.039</td> <td> 1006.410</td> <td> 0.000</td> <td>   38.686    38.837</td>\n",
        "</tr>\n",
        "<tr>\n",
        "  <th>birthord == 1[T.True]</th> <td>    0.1015</td> <td>    0.040</td> <td>    2.528</td> <td> 0.011</td> <td>    0.023     0.180</td>\n",
        "</tr>\n",
        "<tr>\n",
        "  <th>race == 2[T.True]</th>     <td>    0.1390</td> <td>    0.042</td> <td>    3.311</td> <td> 0.001</td> <td>    0.057     0.221</td>\n",
        "</tr>\n",
        "<tr>\n",
        "  <th>nbrnaliv > 1[T.True]</th>  <td>   -1.4944</td> <td>    0.164</td> <td>   -9.086</td> <td> 0.000</td> <td>   -1.817    -1.172</td>\n",
        "</tr>\n",
        "</table>\n",
        "<table class=\"simpletable\">\n",
        "<tr>\n",
        "  <th>Omnibus:</th>       <td>1587.470</td> <th>  Durbin-Watson:     </th> <td>   1.619</td>\n",
        "</tr>\n",
        "<tr>\n",
        "  <th>Prob(Omnibus):</th>  <td> 0.000</td>  <th>  Jarque-Bera (JB):  </th> <td>6160.751</td>\n",
        "</tr>\n",
        "<tr>\n",
        "  <th>Skew:</th>           <td>-0.852</td>  <th>  Prob(JB):          </th> <td>    0.00</td>\n",
        "</tr>\n",
        "<tr>\n",
        "  <th>Kurtosis:</th>       <td> 6.707</td>  <th>  Cond. No.          </th> <td>    10.9</td>\n",
        "</tr>\n",
        "</table>"
       ],
       "metadata": {},
       "output_type": "pyout",
       "prompt_number": 2,
       "text": [
        "<class 'statsmodels.iolib.summary.Summary'>\n",
        "\"\"\"\n",
        "                            OLS Regression Results                            \n",
        "==============================================================================\n",
        "Dep. Variable:               prglngth   R-squared:                       0.011\n",
        "Model:                            OLS   Adj. R-squared:                  0.011\n",
        "Method:                 Least Squares   F-statistic:                     34.28\n",
        "Date:                Tue, 03 Mar 2015   Prob (F-statistic):           5.09e-22\n",
        "Time:                        12:00:30   Log-Likelihood:                -18247.\n",
        "No. Observations:                8884   AIC:                         3.650e+04\n",
        "Df Residuals:                    8880   BIC:                         3.653e+04\n",
        "Df Model:                           3                                         \n",
        "=========================================================================================\n",
        "                            coef    std err          t      P>|t|      [95.0% Conf. Int.]\n",
        "-----------------------------------------------------------------------------------------\n",
        "Intercept                38.7617      0.039   1006.410      0.000        38.686    38.837\n",
        "birthord == 1[T.True]     0.1015      0.040      2.528      0.011         0.023     0.180\n",
        "race == 2[T.True]         0.1390      0.042      3.311      0.001         0.057     0.221\n",
        "nbrnaliv > 1[T.True]     -1.4944      0.164     -9.086      0.000        -1.817    -1.172\n",
        "==============================================================================\n",
        "Omnibus:                     1587.470   Durbin-Watson:                   1.619\n",
        "Prob(Omnibus):                  0.000   Jarque-Bera (JB):             6160.751\n",
        "Skew:                          -0.852   Prob(JB):                         0.00\n",
        "Kurtosis:                       6.707   Cond. No.                         10.9\n",
        "==============================================================================\n",
        "\"\"\""
       ]
      }
     ],
     "prompt_number": 2
    },
    {
     "cell_type": "markdown",
     "metadata": {},
     "source": [
      "Let's go mining for variables that predict sex ratio."
     ]
    },
    {
     "cell_type": "code",
     "collapsed": false,
     "input": [
      "import regression\n",
      "join = regression.JoinFemResp(live)"
     ],
     "language": "python",
     "metadata": {},
     "outputs": [],
     "prompt_number": 3
    },
    {
     "cell_type": "code",
     "collapsed": false,
     "input": [
      "def GoMining(df):\n",
      "    \"\"\"Searches for variables that predict birth weight.\n",
      "\n",
      "    df: DataFrame of pregnancy records\n",
      "\n",
      "    returns: list of (rsquared, variable name) pairs\n",
      "    \"\"\"\n",
      "    df['boy'] = (df.babysex==1).astype(int)\n",
      "    variables = []\n",
      "    for name in df.columns:\n",
      "        try:\n",
      "            if df[name].var() < 1e-7:\n",
      "                continue\n",
      "\n",
      "            formula='boy ~ agepreg + ' + name\n",
      "            model = smf.logit(formula, data=df)\n",
      "            nobs = len(model.endog)\n",
      "            if nobs < len(df)/2:\n",
      "                continue\n",
      "\n",
      "            results = model.fit()\n",
      "        except:\n",
      "            continue\n",
      "\n",
      "        variables.append((results.prsquared, name))\n",
      "\n",
      "    return variables\n",
      "\n",
      "variables = GoMining(join)"
     ],
     "language": "python",
     "metadata": {},
     "outputs": [
      {
       "output_type": "stream",
       "stream": "stdout",
       "text": [
        "Optimization terminated successfully.\n",
        "         Current function value: 0.687464\n",
        "         Iterations 4\n"
       ]
      }
     ],
     "prompt_number": 4
    },
    {
     "cell_type": "markdown",
     "metadata": {},
     "source": [
      "Here are the 30 variables that yield the highest pseudo-$R^2$ value."
     ]
    },
    {
     "cell_type": "code",
     "collapsed": false,
     "input": [
      "regression.MiningReport(variables)"
     ],
     "language": "python",
     "metadata": {},
     "outputs": [
      {
       "output_type": "stream",
       "stream": "stdout",
       "text": [
        "totalwgt_lb 0.00804663447667\n"
       ]
      }
     ],
     "prompt_number": 5
    },
    {
     "cell_type": "markdown",
     "metadata": {},
     "source": [
      "Eliminating variables that are not known during pregnancy and others that are fishy for various reasons, here's the best model I could find:"
     ]
    },
    {
     "cell_type": "code",
     "collapsed": false,
     "input": [
      "formula='boy ~ agepreg + fmarout5==5 + infever==1'\n",
      "model = smf.logit(formula, data=join)\n",
      "results = model.fit()\n",
      "results.summary() "
     ],
     "language": "python",
     "metadata": {},
     "outputs": [
      {
       "output_type": "stream",
       "stream": "stdout",
       "text": [
        "Optimization terminated successfully.\n",
        "         Current function value: 0.691983\n",
        "         Iterations 4\n"
       ]
      },
      {
       "html": [
        "<table class=\"simpletable\">\n",
        "<caption>Logit Regression Results</caption>\n",
        "<tr>\n",
        "  <th>Dep. Variable:</th>        <td>boy</td>       <th>  No. Observations:  </th>  <td>  9148</td>  \n",
        "</tr>\n",
        "<tr>\n",
        "  <th>Model:</th>               <td>Logit</td>      <th>  Df Residuals:      </th>  <td>  9144</td>  \n",
        "</tr>\n",
        "<tr>\n",
        "  <th>Method:</th>               <td>MLE</td>       <th>  Df Model:          </th>  <td>     3</td>  \n",
        "</tr>\n",
        "<tr>\n",
        "  <th>Date:</th>          <td>Tue, 03 Mar 2015</td> <th>  Pseudo R-squ.:     </th> <td>0.001525</td> \n",
        "</tr>\n",
        "<tr>\n",
        "  <th>Time:</th>              <td>12:00:49</td>     <th>  Log-Likelihood:    </th> <td> -6330.3</td> \n",
        "</tr>\n",
        "<tr>\n",
        "  <th>converged:</th>           <td>True</td>       <th>  LL-Null:           </th> <td> -6339.9</td> \n",
        "</tr>\n",
        "<tr>\n",
        "  <th> </th>                      <td> </td>        <th>  LLR p-value:       </th> <td>0.0002326</td>\n",
        "</tr>\n",
        "</table>\n",
        "<table class=\"simpletable\">\n",
        "<tr>\n",
        "            <td></td>               <th>coef</th>     <th>std err</th>      <th>z</th>      <th>P>|z|</th> <th>[95.0% Conf. Int.]</th> \n",
        "</tr>\n",
        "<tr>\n",
        "  <th>Intercept</th>             <td>   -0.1863</td> <td>    0.116</td> <td>   -1.606</td> <td> 0.108</td> <td>   -0.414     0.041</td>\n",
        "</tr>\n",
        "<tr>\n",
        "  <th>fmarout5 == 5[T.True]</th> <td>    0.1493</td> <td>    0.048</td> <td>    3.087</td> <td> 0.002</td> <td>    0.054     0.244</td>\n",
        "</tr>\n",
        "<tr>\n",
        "  <th>infever == 1[T.True]</th>  <td>    0.2096</td> <td>    0.063</td> <td>    3.304</td> <td> 0.001</td> <td>    0.085     0.334</td>\n",
        "</tr>\n",
        "<tr>\n",
        "  <th>agepreg</th>               <td>    0.0053</td> <td>    0.004</td> <td>    1.252</td> <td> 0.211</td> <td>   -0.003     0.014</td>\n",
        "</tr>\n",
        "</table>"
       ],
       "metadata": {},
       "output_type": "pyout",
       "prompt_number": 6,
       "text": [
        "<class 'statsmodels.iolib.summary.Summary'>\n",
        "\"\"\"\n",
        "                           Logit Regression Results                           \n",
        "==============================================================================\n",
        "Dep. Variable:                    boy   No. Observations:                 9148\n",
        "Model:                          Logit   Df Residuals:                     9144\n",
        "Method:                           MLE   Df Model:                            3\n",
        "Date:                Tue, 03 Mar 2015   Pseudo R-squ.:                0.001525\n",
        "Time:                        12:00:49   Log-Likelihood:                -6330.3\n",
        "converged:                       True   LL-Null:                       -6339.9\n",
        "                                        LLR p-value:                 0.0002326\n",
        "=========================================================================================\n",
        "                            coef    std err          z      P>|z|      [95.0% Conf. Int.]\n",
        "-----------------------------------------------------------------------------------------\n",
        "Intercept                -0.1863      0.116     -1.606      0.108        -0.414     0.041\n",
        "fmarout5 == 5[T.True]     0.1493      0.048      3.087      0.002         0.054     0.244\n",
        "infever == 1[T.True]      0.2096      0.063      3.304      0.001         0.085     0.334\n",
        "agepreg                   0.0053      0.004      1.252      0.211        -0.003     0.014\n",
        "=========================================================================================\n",
        "\"\"\""
       ]
      }
     ],
     "prompt_number": 6
    },
    {
     "cell_type": "markdown",
     "metadata": {},
     "source": [
      "Now let's build a model to predict the respondent's parity (number of babies born alive).  I used a nonlinear model of age.  The age3 term is probably overkill, but I thought I would show that it might not be a crazy choice.  It doesn't have much effect on the predictions."
     ]
    },
    {
     "cell_type": "code",
     "collapsed": false,
     "input": [
      "join.numbabes.replace([97], np.nan, inplace=True)\n",
      "join['age2'] = join.age_r**2\n",
      "join['age3'] = join.age_r**3"
     ],
     "language": "python",
     "metadata": {},
     "outputs": [
      {
       "ename": "NameError",
       "evalue": "name 'np' is not defined",
       "output_type": "pyerr",
       "traceback": [
        "\u001b[0;31m---------------------------------------------------------------------------\u001b[0m\n\u001b[0;31mNameError\u001b[0m                                 Traceback (most recent call last)",
        "\u001b[0;32m<ipython-input-7-ee7378474d07>\u001b[0m in \u001b[0;36m<module>\u001b[0;34m()\u001b[0m\n\u001b[0;32m----> 1\u001b[0;31m \u001b[0mjoin\u001b[0m\u001b[0;34m.\u001b[0m\u001b[0mnumbabes\u001b[0m\u001b[0;34m.\u001b[0m\u001b[0mreplace\u001b[0m\u001b[0;34m(\u001b[0m\u001b[0;34m[\u001b[0m\u001b[0;36m97\u001b[0m\u001b[0;34m]\u001b[0m\u001b[0;34m,\u001b[0m \u001b[0mnp\u001b[0m\u001b[0;34m.\u001b[0m\u001b[0mnan\u001b[0m\u001b[0;34m,\u001b[0m \u001b[0minplace\u001b[0m\u001b[0;34m=\u001b[0m\u001b[0mTrue\u001b[0m\u001b[0;34m)\u001b[0m\u001b[0;34m\u001b[0m\u001b[0m\n\u001b[0m\u001b[1;32m      2\u001b[0m \u001b[0mjoin\u001b[0m\u001b[0;34m[\u001b[0m\u001b[0;34m'age2'\u001b[0m\u001b[0;34m]\u001b[0m \u001b[0;34m=\u001b[0m \u001b[0mjoin\u001b[0m\u001b[0;34m.\u001b[0m\u001b[0mage_r\u001b[0m\u001b[0;34m**\u001b[0m\u001b[0;36m2\u001b[0m\u001b[0;34m\u001b[0m\u001b[0m\n\u001b[1;32m      3\u001b[0m \u001b[0mjoin\u001b[0m\u001b[0;34m[\u001b[0m\u001b[0;34m'age3'\u001b[0m\u001b[0;34m]\u001b[0m \u001b[0;34m=\u001b[0m \u001b[0mjoin\u001b[0m\u001b[0;34m.\u001b[0m\u001b[0mage_r\u001b[0m\u001b[0;34m**\u001b[0m\u001b[0;36m3\u001b[0m\u001b[0;34m\u001b[0m\u001b[0m\n",
        "\u001b[0;31mNameError\u001b[0m: name 'np' is not defined"
       ]
      }
     ],
     "prompt_number": 7
    },
    {
     "cell_type": "code",
     "collapsed": false,
     "input": [
      "formula='numbabes ~ age_r + age2 + age3 + C(race) + totincr + educat'\n",
      "model = smf.poisson(formula, data=join)\n",
      "results = model.fit()\n",
      "results.summary() "
     ],
     "language": "python",
     "metadata": {},
     "outputs": []
    },
    {
     "cell_type": "markdown",
     "metadata": {},
     "source": [
      "Now we can predict the number of children for a woman who is 35 years old, black, and a college\n",
      "graduate whose annual household income exceeds $75,000"
     ]
    },
    {
     "cell_type": "code",
     "collapsed": false,
     "input": [
      "import pandas\n",
      "columns = ['age_r', 'age2', 'age3', 'race', 'totincr', 'educat']\n",
      "new = pandas.DataFrame([[35, 35**2, 35**3, 1, 14, 16]], columns=columns)\n",
      "results.predict(new)"
     ],
     "language": "python",
     "metadata": {},
     "outputs": []
    },
    {
     "cell_type": "markdown",
     "metadata": {},
     "source": [
      "To predict marital status, here is the best model I found:"
     ]
    },
    {
     "cell_type": "code",
     "collapsed": false,
     "input": [
      "formula='rmarital ~ age_r + age2 + C(race) + totincr + educat'\n",
      "model = smf.mnlogit(formula, data=join)\n",
      "results = model.fit()\n",
      "results.summary() "
     ],
     "language": "python",
     "metadata": {},
     "outputs": []
    },
    {
     "cell_type": "markdown",
     "metadata": {},
     "source": [
      "And here is the prediction for a woman who is 25 years old, white, and a high\n",
      "school graduate whose annual household income is about $45,000."
     ]
    },
    {
     "cell_type": "code",
     "collapsed": false,
     "input": [
      "columns = ['age_r', 'age2', 'race', 'totincr', 'educat']\n",
      "new = pandas.DataFrame([[25, 25**2, 2, 11, 12]], columns=columns)\n",
      "results.predict(new)"
     ],
     "language": "python",
     "metadata": {},
     "outputs": []
    },
    {
     "cell_type": "markdown",
     "metadata": {},
     "source": [
      "So this person has a 75% chance of being currently married, a 13% chance of being \"not married but living with opposite sex partner\", etc."
     ]
    },
    {
     "cell_type": "code",
     "collapsed": false,
     "input": [],
     "language": "python",
     "metadata": {},
     "outputs": []
    }
   ],
   "metadata": {}
  }
 ]
}